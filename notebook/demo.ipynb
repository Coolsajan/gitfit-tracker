{
 "cells": [
  {
   "cell_type": "code",
   "execution_count": 3,
   "metadata": {},
   "outputs": [
    {
     "name": "stdout",
     "output_type": "stream",
     "text": [
      "Test ok\n"
     ]
    }
   ],
   "source": [
    "print(\"Test ok\")\n"
   ]
  },
  {
   "cell_type": "markdown",
   "metadata": {},
   "source": [
    "### DEPENDENCY"
   ]
  },
  {
   "cell_type": "code",
   "execution_count": 4,
   "metadata": {},
   "outputs": [
    {
     "name": "stdout",
     "output_type": "stream",
     "text": [
      "Requirement already satisfied: opencv-python in d:\\gitfit-tracker\\fit\\lib\\site-packages (4.11.0.86)\n",
      "Requirement already satisfied: mediapipe in d:\\gitfit-tracker\\fit\\lib\\site-packages (0.10.21)\n",
      "Requirement already satisfied: numpy>=1.21.2 in d:\\gitfit-tracker\\fit\\lib\\site-packages (from opencv-python) (1.26.4)\n",
      "Requirement already satisfied: absl-py in d:\\gitfit-tracker\\fit\\lib\\site-packages (from mediapipe) (2.1.0)\n",
      "Requirement already satisfied: attrs>=19.1.0 in d:\\gitfit-tracker\\fit\\lib\\site-packages (from mediapipe) (25.1.0)\n",
      "Requirement already satisfied: flatbuffers>=2.0 in d:\\gitfit-tracker\\fit\\lib\\site-packages (from mediapipe) (25.2.10)\n",
      "Requirement already satisfied: jax in d:\\gitfit-tracker\\fit\\lib\\site-packages (from mediapipe) (0.5.0)\n",
      "Requirement already satisfied: jaxlib in d:\\gitfit-tracker\\fit\\lib\\site-packages (from mediapipe) (0.5.0)\n",
      "Requirement already satisfied: matplotlib in d:\\gitfit-tracker\\fit\\lib\\site-packages (from mediapipe) (3.10.0)\n",
      "Requirement already satisfied: opencv-contrib-python in d:\\gitfit-tracker\\fit\\lib\\site-packages (from mediapipe) (4.11.0.86)\n",
      "Requirement already satisfied: protobuf<5,>=4.25.3 in d:\\gitfit-tracker\\fit\\lib\\site-packages (from mediapipe) (4.25.6)\n",
      "Requirement already satisfied: sounddevice>=0.4.4 in d:\\gitfit-tracker\\fit\\lib\\site-packages (from mediapipe) (0.5.1)\n",
      "Requirement already satisfied: sentencepiece in d:\\gitfit-tracker\\fit\\lib\\site-packages (from mediapipe) (0.2.0)\n",
      "Requirement already satisfied: CFFI>=1.0 in d:\\gitfit-tracker\\fit\\lib\\site-packages (from sounddevice>=0.4.4->mediapipe) (1.17.1)\n",
      "Requirement already satisfied: ml_dtypes>=0.4.0 in d:\\gitfit-tracker\\fit\\lib\\site-packages (from jax->mediapipe) (0.5.1)\n",
      "Requirement already satisfied: opt_einsum in d:\\gitfit-tracker\\fit\\lib\\site-packages (from jax->mediapipe) (3.4.0)\n",
      "Requirement already satisfied: scipy>=1.11.1 in d:\\gitfit-tracker\\fit\\lib\\site-packages (from jax->mediapipe) (1.15.2)\n",
      "Requirement already satisfied: contourpy>=1.0.1 in d:\\gitfit-tracker\\fit\\lib\\site-packages (from matplotlib->mediapipe) (1.3.1)\n",
      "Requirement already satisfied: cycler>=0.10 in d:\\gitfit-tracker\\fit\\lib\\site-packages (from matplotlib->mediapipe) (0.12.1)\n",
      "Requirement already satisfied: fonttools>=4.22.0 in d:\\gitfit-tracker\\fit\\lib\\site-packages (from matplotlib->mediapipe) (4.56.0)\n",
      "Requirement already satisfied: kiwisolver>=1.3.1 in d:\\gitfit-tracker\\fit\\lib\\site-packages (from matplotlib->mediapipe) (1.4.8)\n",
      "Requirement already satisfied: packaging>=20.0 in d:\\gitfit-tracker\\fit\\lib\\site-packages (from matplotlib->mediapipe) (24.2)\n",
      "Requirement already satisfied: pillow>=8 in d:\\gitfit-tracker\\fit\\lib\\site-packages (from matplotlib->mediapipe) (11.1.0)\n",
      "Requirement already satisfied: pyparsing>=2.3.1 in d:\\gitfit-tracker\\fit\\lib\\site-packages (from matplotlib->mediapipe) (3.2.1)\n",
      "Requirement already satisfied: python-dateutil>=2.7 in d:\\gitfit-tracker\\fit\\lib\\site-packages (from matplotlib->mediapipe) (2.9.0.post0)\n",
      "Requirement already satisfied: pycparser in d:\\gitfit-tracker\\fit\\lib\\site-packages (from CFFI>=1.0->sounddevice>=0.4.4->mediapipe) (2.22)\n",
      "Requirement already satisfied: six>=1.5 in d:\\gitfit-tracker\\fit\\lib\\site-packages (from python-dateutil>=2.7->matplotlib->mediapipe) (1.17.0)\n"
     ]
    },
    {
     "name": "stderr",
     "output_type": "stream",
     "text": [
      "\n",
      "[notice] A new release of pip is available: 24.2 -> 25.0.1\n",
      "[notice] To update, run: python.exe -m pip install --upgrade pip\n"
     ]
    }
   ],
   "source": [
    "! pip install opencv-python mediapipe"
   ]
  },
  {
   "cell_type": "markdown",
   "metadata": {},
   "source": [
    "### Loading \\ Importing"
   ]
  },
  {
   "cell_type": "code",
   "execution_count": 2,
   "metadata": {},
   "outputs": [],
   "source": [
    "import cv2\n",
    "import mediapipe as mp\n",
    "import numpy as np\n",
    "\n",
    "mp_drawing=mp.solutions.drawing_utils #for drwaing \n",
    "mp_pose=mp.solutions.pose #for pose extimator"
   ]
  },
  {
   "cell_type": "code",
   "execution_count": 9,
   "metadata": {},
   "outputs": [],
   "source": [
    "#Video capture\n",
    "cap=cv2.VideoCapture(0)\n",
    "while cap.isOpened():\n",
    "    ret,frame=cap.read()\n",
    "    cv2.imshow(\"Mediapipe Feed\",frame)\n",
    "\n",
    "    if cv2.waitKey(10) & 0xFF == ord(\"q\"):\n",
    "        break\n",
    "\n",
    "cap.release()\n",
    "cv2.destroyAllWindows()\n"
   ]
  },
  {
   "cell_type": "markdown",
   "metadata": {},
   "source": [
    "### Detection"
   ]
  },
  {
   "cell_type": "code",
   "execution_count": 8,
   "metadata": {},
   "outputs": [],
   "source": [
    "cap=cv2.VideoCapture(0)\n",
    "#setup mediapipe instances.\n",
    "with mp_pose.Pose(min_detection_confidence=0.7,min_tracking_confidence=0.7) as pose:\n",
    "    while cap.isOpened():\n",
    "        ret,frame=cap.read()\n",
    "\n",
    "        image=cv2.cvtColor(frame,cv2.COLOR_BGR2RGB)\n",
    "        image.flags.writeable=False    #adjusting the COlour for psoe -mediapipe\n",
    "\n",
    "        result=pose.process(image)  #passing the image to psoe\n",
    "\n",
    "        image.flags.writeable=True\n",
    "        image=cv2.cvtColor(image,cv2.COLOR_RGB2BGR)  # readhusitng for rendering to window\n",
    "        \n",
    "\n",
    "        #rendering detection.\n",
    "        mp_drawing.draw_landmarks(image,result.pose_landmarks,mp_pose.POSE_CONNECTIONS,\n",
    "                                  mp_drawing.DrawingSpec(color=(245,117,66),thickness=2,circle_radius=2),\n",
    "                                  mp_drawing.DrawingSpec(color=(245,66,230),thickness=2,circle_radius=2))\n",
    "        \n",
    "        cv2.imshow(\"Mediapipe Feed\",image)\n",
    "\n",
    "        if cv2.waitKey(10) & 0xFF == ord(\"q\"):\n",
    "            break\n",
    "\n",
    "    cap.release()\n",
    "    cv2.destroyAllWindows()"
   ]
  },
  {
   "cell_type": "code",
   "execution_count": null,
   "metadata": {},
   "outputs": [],
   "source": []
  },
  {
   "cell_type": "markdown",
   "metadata": {},
   "source": [
    "#### LANDSMARKS"
   ]
  },
  {
   "cell_type": "code",
   "execution_count": 10,
   "metadata": {},
   "outputs": [],
   "source": [
    "cap=cv2.VideoCapture(0)\n",
    "#setup mediapipe instances.\n",
    "with mp_pose.Pose(min_detection_confidence=0.7,min_tracking_confidence=0.7) as pose:\n",
    "    while cap.isOpened():\n",
    "        ret,frame=cap.read()\n",
    "\n",
    "        image=cv2.cvtColor(frame,cv2.COLOR_BGR2RGB)\n",
    "        image.flags.writeable=False    #adjusting the COlour for psoe -mediapipe\n",
    "\n",
    "        result=pose.process(image)  #passing the image to psoe\n",
    "\n",
    "        image.flags.writeable=True\n",
    "        image=cv2.cvtColor(image,cv2.COLOR_RGB2BGR)  # readhusitng for rendering to window\n",
    "\n",
    "        #extract landmark\n",
    "        try:\n",
    "            landmarks=result.pose_landmarks.landmark\n",
    "        except:\n",
    "            pass\n",
    "        \n",
    "\n",
    "        #rendering detection.\n",
    "        mp_drawing.draw_landmarks(image,result.pose_landmarks,mp_pose.POSE_CONNECTIONS,\n",
    "                                  mp_drawing.DrawingSpec(color=(245,117,66),thickness=2,circle_radius=2),\n",
    "                                  mp_drawing.DrawingSpec(color=(245,66,230),thickness=2,circle_radius=2))\n",
    "        \n",
    "        cv2.imshow(\"Mediapipe Feed\",image)\n",
    "\n",
    "        if cv2.waitKey(10) & 0xFF == ord(\"q\"):\n",
    "            break\n",
    "\n",
    "    cap.release()\n",
    "    cv2.destroyAllWindows()"
   ]
  },
  {
   "cell_type": "code",
   "execution_count": 11,
   "metadata": {},
   "outputs": [
    {
     "data": {
      "text/plain": [
       "[x: 0.570430934\n",
       "y: 0.476554\n",
       "z: -0.667425275\n",
       "visibility: 0.99996829\n",
       ", x: 0.585760951\n",
       "y: 0.44965\n",
       "z: -0.611132622\n",
       "visibility: 0.999937952\n",
       ", x: 0.597066581\n",
       "y: 0.453326881\n",
       "z: -0.611035705\n",
       "visibility: 0.999942958\n",
       ", x: 0.606601655\n",
       "y: 0.457593173\n",
       "z: -0.611113667\n",
       "visibility: 0.999936938\n",
       ", x: 0.549632668\n",
       "y: 0.447608531\n",
       "z: -0.615288854\n",
       "visibility: 0.999938428\n",
       ", x: 0.537521958\n",
       "y: 0.450178355\n",
       "z: -0.614964366\n",
       "visibility: 0.999945164\n",
       ", x: 0.526148438\n",
       "y: 0.453843594\n",
       "z: -0.615290284\n",
       "visibility: 0.999941766\n",
       ", x: 0.623040557\n",
       "y: 0.499265\n",
       "z: -0.318763137\n",
       "visibility: 0.999933\n",
       ", x: 0.508023441\n",
       "y: 0.500057817\n",
       "z: -0.329186499\n",
       "visibility: 0.99995172\n",
       ", x: 0.59534663\n",
       "y: 0.537005424\n",
       "z: -0.567037225\n",
       "visibility: 0.999964654\n",
       ", x: 0.546185434\n",
       "y: 0.535199702\n",
       "z: -0.568756\n",
       "visibility: 0.999968\n",
       ", x: 0.714535475\n",
       "y: 0.779963434\n",
       "z: -0.20421949\n",
       "visibility: 0.999681175\n",
       ", x: 0.405271828\n",
       "y: 0.775156617\n",
       "z: -0.260515392\n",
       "visibility: 0.999747396\n",
       ", x: 0.787213087\n",
       "y: 1.00322235\n",
       "z: -0.259496868\n",
       "visibility: 0.371728867\n",
       ", x: 0.276904941\n",
       "y: 0.9867329\n",
       "z: -0.370930523\n",
       "visibility: 0.506272554\n",
       ", x: 0.794312119\n",
       "y: 1.31916869\n",
       "z: -0.598075569\n",
       "visibility: 0.0643482134\n",
       ", x: 0.162783146\n",
       "y: 1.22994542\n",
       "z: -0.857633412\n",
       "visibility: 0.200973555\n",
       ", x: 0.816720128\n",
       "y: 1.4017117\n",
       "z: -0.67619\n",
       "visibility: 0.078620635\n",
       ", x: 0.11833477\n",
       "y: 1.2875061\n",
       "z: -0.963974953\n",
       "visibility: 0.208610162\n",
       ", x: 0.778363228\n",
       "y: 1.40517545\n",
       "z: -0.732193351\n",
       "visibility: 0.131394729\n",
       ", x: 0.147836655\n",
       "y: 1.29450631\n",
       "z: -1.0365746\n",
       "visibility: 0.302609205\n",
       ", x: 0.763884366\n",
       "y: 1.3727603\n",
       "z: -0.637040854\n",
       "visibility: 0.123093709\n",
       ", x: 0.168375567\n",
       "y: 1.27372026\n",
       "z: -0.907413602\n",
       "visibility: 0.308489978\n",
       ", x: 0.648592532\n",
       "y: 1.37685573\n",
       "z: -0.0231163558\n",
       "visibility: 0.00142549421\n",
       ", x: 0.426920414\n",
       "y: 1.36702681\n",
       "z: 0.0268572774\n",
       "visibility: 0.00160855823\n",
       ", x: 0.620792\n",
       "y: 1.85844469\n",
       "z: -0.0116107436\n",
       "visibility: 0.000466360099\n",
       ", x: 0.41268\n",
       "y: 1.85017371\n",
       "z: 0.0471124873\n",
       "visibility: 0.000147231724\n",
       ", x: 0.615979075\n",
       "y: 2.28878331\n",
       "z: 0.46991697\n",
       "visibility: 9.6454758e-005\n",
       ", x: 0.409408867\n",
       "y: 2.2758925\n",
       "z: 0.367170066\n",
       "visibility: 1.06564976e-005\n",
       ", x: 0.620136321\n",
       "y: 2.36203718\n",
       "z: 0.492357433\n",
       "visibility: 7.18954398e-005\n",
       ", x: 0.403027773\n",
       "y: 2.34467173\n",
       "z: 0.383089751\n",
       "visibility: 1.75538098e-005\n",
       ", x: 0.587781787\n",
       "y: 2.40917826\n",
       "z: 0.0688998774\n",
       "visibility: 0.000125366176\n",
       ", x: 0.438584656\n",
       "y: 2.4067688\n",
       "z: -0.0878986269\n",
       "visibility: 3.63080289e-005\n",
       "]"
      ]
     },
     "execution_count": 11,
     "metadata": {},
     "output_type": "execute_result"
    }
   ],
   "source": [
    "landmarks"
   ]
  },
  {
   "cell_type": "code",
   "execution_count": 12,
   "metadata": {},
   "outputs": [
    {
     "data": {
      "text/plain": [
       "x: 0.714535475\n",
       "y: 0.779963434\n",
       "z: -0.20421949\n",
       "visibility: 0.999681175"
      ]
     },
     "execution_count": 12,
     "metadata": {},
     "output_type": "execute_result"
    }
   ],
   "source": [
    "landmarks[mp_pose.PoseLandmark.LEFT_SHOULDER.value]"
   ]
  },
  {
   "cell_type": "markdown",
   "metadata": {},
   "source": [
    "### CALCULATING ANGLE"
   ]
  },
  {
   "cell_type": "code",
   "execution_count": 4,
   "metadata": {},
   "outputs": [],
   "source": [
    "def calculate_angel(a,b,c):\n",
    "    a=np.array(a)\n",
    "    b=np.array(b)\n",
    "    c=np.array(c)\n",
    "\n",
    "    radians=np.arctan2(c[1]-b[1],c[0]-b[0]) - np.arctan2(a[1]-b[1],a[0]-b[0])\n",
    "    angle=np.abs(radians*180.0/np.pi)\n",
    "\n",
    "    if angle>180.0:\n",
    "        angle=360-angle\n",
    "\n",
    "    return angle"
   ]
  },
  {
   "cell_type": "code",
   "execution_count": 14,
   "metadata": {},
   "outputs": [],
   "source": [
    "shoulder=[landmarks[mp_pose.PoseLandmark.LEFT_SHOULDER.value].x ,landmarks[mp_pose.PoseLandmark.LEFT_SHOULDER.value].y]\n",
    "elbow=[landmarks[mp_pose.PoseLandmark.LEFT_ELBOW.value].x ,landmarks[mp_pose.PoseLandmark.LEFT_ELBOW.value].y]\n",
    "wrist=[landmarks[mp_pose.PoseLandmark.LEFT_WRIST.value].x ,landmarks[mp_pose.PoseLandmark.LEFT_WRIST.value].y]\n"
   ]
  },
  {
   "cell_type": "code",
   "execution_count": 15,
   "metadata": {},
   "outputs": [
    {
     "data": {
      "text/plain": [
       "163.2555133031346"
      ]
     },
     "execution_count": 15,
     "metadata": {},
     "output_type": "execute_result"
    }
   ],
   "source": [
    "calculate_angel(shoulder,elbow,wrist)"
   ]
  },
  {
   "cell_type": "markdown",
   "metadata": {},
   "source": [
    "### CALCULATE ANGEL AND ISUALIZE IT IN SCREEN"
   ]
  },
  {
   "cell_type": "code",
   "execution_count": 5,
   "metadata": {},
   "outputs": [],
   "source": [
    "cap=cv2.VideoCapture(0)\n",
    "#setup mediapipe instances.\n",
    "with mp_pose.Pose(min_detection_confidence=0.5,min_tracking_confidence=0.5) as pose:\n",
    "    while cap.isOpened():\n",
    "        ret,frame=cap.read()\n",
    "\n",
    "        image=cv2.cvtColor(frame,cv2.COLOR_BGR2RGB)\n",
    "        image.flags.writeable=False    #adjusting the COlour for psoe -mediapipe\n",
    "\n",
    "        result=pose.process(image)  #passing the image to psoe\n",
    "\n",
    "        image.flags.writeable=True\n",
    "        image=cv2.cvtColor(image,cv2.COLOR_RGB2BGR)  # readhusitng for rendering to window\n",
    "\n",
    "        #extract landmark\n",
    "        try:\n",
    "            landmarks=result.pose_landmarks.landmark\n",
    "\n",
    "            shoulder=[landmarks[mp_pose.PoseLandmark.LEFT_SHOULDER.value].x ,landmarks[mp_pose.PoseLandmark.LEFT_SHOULDER.value].y]\n",
    "            elbow=[landmarks[mp_pose.PoseLandmark.LEFT_ELBOW.value].x ,landmarks[mp_pose.PoseLandmark.LEFT_ELBOW.value].y]\n",
    "            wrist=[landmarks[mp_pose.PoseLandmark.LEFT_WRIST.value].x ,landmarks[mp_pose.PoseLandmark.LEFT_WRIST.value].y]\n",
    "\n",
    "            angle=calculate_angel(shoulder,elbow,wrist)\n",
    "\n",
    "            cv2.putText(image,str(angle),\n",
    "                        tuple(np.multiply(elbow, [640, 480]).astype(int)),\n",
    "                              cv2.FONT_HERSHEY_COMPLEX,0.5,(225,225,225),2,cv2.LINE_AA)\n",
    "            \n",
    "\n",
    "            landmarks=result.pose_landmarks.landmark\n",
    "\n",
    "            shoulder=[landmarks[mp_pose.PoseLandmark.RIGHT_SHOULDER.value].x ,landmarks[mp_pose.PoseLandmark.RIGHT_SHOULDER.value].y]\n",
    "            elbow=[landmarks[mp_pose.PoseLandmark.RIGHT_ELBOW.value].x ,landmarks[mp_pose.PoseLandmark.RIGHT_ELBOW.value].y]\n",
    "            wrist=[landmarks[mp_pose.PoseLandmark.RIGHT_WRIST.value].x ,landmarks[mp_pose.PoseLandmark.RIGHT_WRIST.value].y]\n",
    "\n",
    "            angle=calculate_angel(shoulder,elbow,wrist)\n",
    "\n",
    "            cv2.putText(image,str(angle),\n",
    "                        tuple(np.multiply(elbow, [640, 480]).astype(int)),\n",
    "                              cv2.FONT_HERSHEY_COMPLEX,0.5,(225,225,225),2,cv2.LINE_AA)\n",
    "\n",
    "\n",
    "\n",
    "            \n",
    "        except:\n",
    "            pass\n",
    "        \n",
    "\n",
    "        #rendering detection.\n",
    "        mp_drawing.draw_landmarks(image,result.pose_landmarks,mp_pose.POSE_CONNECTIONS,\n",
    "                                  mp_drawing.DrawingSpec(color=(245,117,66),thickness=2,circle_radius=2),\n",
    "                                  mp_drawing.DrawingSpec(color=(245,66,230),thickness=2,circle_radius=2))\n",
    "        \n",
    "        cv2.imshow(\"Mediapipe Feed\",image)\n",
    "\n",
    "        if cv2.waitKey(10) & 0xFF == ord(\"q\"):\n",
    "            break\n",
    "\n",
    "    cap.release()\n",
    "    cv2.destroyAllWindows()"
   ]
  },
  {
   "cell_type": "markdown",
   "metadata": {},
   "source": [
    "### STEP COUNTER "
   ]
  },
  {
   "cell_type": "code",
   "execution_count": 40,
   "metadata": {},
   "outputs": [
    {
     "name": "stdout",
     "output_type": "stream",
     "text": [
      "9\n"
     ]
    }
   ],
   "source": [
    "counter=0\n",
    "step =None\n",
    "\n",
    "cap=cv2.VideoCapture(0)\n",
    "#setup mediapipe instances.\n",
    "with mp_pose.Pose(min_detection_confidence=0.6,min_tracking_confidence=0.6) as pose:\n",
    "    while cap.isOpened():\n",
    "        ret,frame=cap.read()\n",
    "\n",
    "        image=cv2.cvtColor(frame,cv2.COLOR_BGR2RGB)\n",
    "        image.flags.writeable=False    #adjusting the COlour for psoe -mediapipe\n",
    "\n",
    "        result=pose.process(image)  #passing the image to psoe\n",
    "\n",
    "        image.flags.writeable=True\n",
    "        image=cv2.cvtColor(image,cv2.COLOR_RGB2BGR)  # readhusitng for rendering to window\n",
    "\n",
    "        #extract landmark\n",
    "        try:\n",
    "            landmarks=result.pose_landmarks.landmark\n",
    "\n",
    "            shoulder=[landmarks[mp_pose.PoseLandmark.LEFT_SHOULDER.value].x ,landmarks[mp_pose.PoseLandmark.LEFT_SHOULDER.value].y]\n",
    "            elbow=[landmarks[mp_pose.PoseLandmark.LEFT_ELBOW.value].x ,landmarks[mp_pose.PoseLandmark.LEFT_ELBOW.value].y]\n",
    "            wrist=[landmarks[mp_pose.PoseLandmark.LEFT_WRIST.value].x ,landmarks[mp_pose.PoseLandmark.LEFT_WRIST.value].y]\n",
    "\n",
    "            angle=calculate_angel(shoulder,elbow,wrist)\n",
    "\n",
    "            cv2.putText(image,str(angle),\n",
    "                        tuple(np.multiply(elbow, [640, 480]).astype(int)),\n",
    "                              cv2.FONT_HERSHEY_COMPLEX,0.5,(225,225,225),2,cv2.LINE_AA)\n",
    "            \n",
    "\n",
    "\n",
    "            if angle > 160.0:\n",
    "                step=\"DOWN\"\n",
    "            if angle < 40 and step==\"DOWN\":\n",
    "                step=\"UP\"\n",
    "                counter +=1\n",
    "                \n",
    "\n",
    "            \n",
    "            \n",
    "        except:\n",
    "            pass\n",
    "        \n",
    "        cv2.rectangle(image,(0,0),(225,73),(245,117,20),-1)\n",
    "\n",
    "        cv2.putText(image,\"REPS\",(15,25),\n",
    "                    cv2.FONT_HERSHEY_SIMPLEX,0.75,(225,225,225),2,cv2.LINE_AA)\n",
    "        \n",
    "        cv2.putText(image,str(counter),(15,60),\n",
    "                    cv2.FONT_HERSHEY_COMPLEX,1,(225,225,225),2,cv2.LINE_AA) \n",
    "\n",
    "        cv2.putText(image,\"STEP\",(90,25),\n",
    "                    cv2.FONT_HERSHEY_SIMPLEX,0.75,(225,225,225),2,cv2.LINE_AA)   \n",
    "        \n",
    "        cv2.putText(image,str(step),(90,60),\n",
    "                    cv2.FONT_HERSHEY_COMPLEX,1,(225,225,225),2,cv2.LINE_AA)\n",
    "\n",
    "        #rendering detection.\n",
    "        mp_drawing.draw_landmarks(image,result.pose_landmarks,mp_pose.POSE_CONNECTIONS,\n",
    "                                  mp_drawing.DrawingSpec(color=(245,117,66),thickness=2,circle_radius=2),\n",
    "                                  mp_drawing.DrawingSpec(color=(245,66,230),thickness=2,circle_radius=2))\n",
    "        \n",
    "        cv2.imshow(\"Mediapipe Feed\",image)\n",
    "\n",
    "        if cv2.waitKey(10) & 0xFF == ord(\"q\"):\n",
    "            break\n",
    "\n",
    "    print(counter)\n",
    "    cap.release()\n",
    "    cv2.destroyAllWindows()"
   ]
  },
  {
   "cell_type": "code",
   "execution_count": null,
   "metadata": {},
   "outputs": [],
   "source": []
  }
 ],
 "metadata": {
  "kernelspec": {
   "display_name": "fit",
   "language": "python",
   "name": "python3"
  },
  "language_info": {
   "codemirror_mode": {
    "name": "ipython",
    "version": 3
   },
   "file_extension": ".py",
   "mimetype": "text/x-python",
   "name": "python",
   "nbconvert_exporter": "python",
   "pygments_lexer": "ipython3",
   "version": "3.12.6"
  }
 },
 "nbformat": 4,
 "nbformat_minor": 2
}
